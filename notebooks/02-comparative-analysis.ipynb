{
 "cells": [
  {
   "cell_type": "markdown",
   "id": "67e006cd-685e-4ec7-ab50-968b41ecb5e0",
   "metadata": {},
   "source": [
    "# Análise comparativa de dados"
   ]
  },
  {
   "cell_type": "code",
   "execution_count": 14,
   "id": "2ebd170a-4ada-42ff-bac3-d73988ce4498",
   "metadata": {
    "tags": []
   },
   "outputs": [],
   "source": [
    "from IPython.display import Image, display, Markdown\n",
    "import numpy as np\n",
    "import pandas as pd\n",
    "import seaborn as sns\n",
    "import matplotlib.pyplot as plt\n",
    "from scipy import stats\n",
    "import joblib\n",
    "\n",
    "from sklearn.pipeline import Pipeline\n",
    "from sklearn.impute import SimpleImputer\n",
    "from sklearn.preprocessing import StandardScaler, MinMaxScaler, OneHotEncoder, OrdinalEncoder, LabelEncoder\n",
    "from sklearn.compose import ColumnTransformer\n",
    "from sklearn.linear_model import LogisticRegression\n",
    "\n",
    "from sklearn.neighbors import KNeighborsRegressor\n",
    "from sklearn.model_selection import ShuffleSplit, GridSearchCV, KFold, cross_validate\n",
    "from sklearn.svm import SVR\n",
    "from sklearn.tree import DecisionTreeRegressor\n",
    "from sklearn.ensemble import RandomForestRegressor\n",
    "from sklearn.metrics import make_scorer, mean_absolute_error, mean_squared_error, r2_score"
   ]
  },
  {
   "cell_type": "markdown",
   "id": "9e84bef0-8304-4043-ba97-cf00b3438f14",
   "metadata": {},
   "source": [
    "## 1. Leitura do conjunto de dados"
   ]
  },
  {
   "cell_type": "code",
   "execution_count": 5,
   "id": "03886740-4925-4a19-aa03-ea2c7ef7a6ce",
   "metadata": {
    "tags": []
   },
   "outputs": [
    {
     "data": {
      "text/html": [
       "<div>\n",
       "<style scoped>\n",
       "    .dataframe tbody tr th:only-of-type {\n",
       "        vertical-align: middle;\n",
       "    }\n",
       "\n",
       "    .dataframe tbody tr th {\n",
       "        vertical-align: top;\n",
       "    }\n",
       "\n",
       "    .dataframe thead th {\n",
       "        text-align: right;\n",
       "    }\n",
       "</style>\n",
       "<table border=\"1\" class=\"dataframe\">\n",
       "  <thead>\n",
       "    <tr style=\"text-align: right;\">\n",
       "      <th></th>\n",
       "      <th>variavel</th>\n",
       "      <th>descricao</th>\n",
       "      <th>tipo</th>\n",
       "      <th>subtipo</th>\n",
       "    </tr>\n",
       "  </thead>\n",
       "  <tbody>\n",
       "    <tr>\n",
       "      <th>0</th>\n",
       "      <td>total_bill</td>\n",
       "      <td>Valor da conta em dólares</td>\n",
       "      <td>quantitativa</td>\n",
       "      <td>continua</td>\n",
       "    </tr>\n",
       "    <tr>\n",
       "      <th>1</th>\n",
       "      <td>tip</td>\n",
       "      <td>Valor da gorjeta em dólares</td>\n",
       "      <td>quantitativa</td>\n",
       "      <td>continua</td>\n",
       "    </tr>\n",
       "    <tr>\n",
       "      <th>2</th>\n",
       "      <td>sex</td>\n",
       "      <td>Sexo dos clientes</td>\n",
       "      <td>qualitativa</td>\n",
       "      <td>nominal</td>\n",
       "    </tr>\n",
       "    <tr>\n",
       "      <th>3</th>\n",
       "      <td>smoker</td>\n",
       "      <td>Se os clientes eram fumantes ou não</td>\n",
       "      <td>qualitativa</td>\n",
       "      <td>nominal</td>\n",
       "    </tr>\n",
       "    <tr>\n",
       "      <th>4</th>\n",
       "      <td>day</td>\n",
       "      <td>Dia da semana</td>\n",
       "      <td>qualitativa</td>\n",
       "      <td>ordinal</td>\n",
       "    </tr>\n",
       "    <tr>\n",
       "      <th>5</th>\n",
       "      <td>time</td>\n",
       "      <td>Período do dia</td>\n",
       "      <td>qualitativa</td>\n",
       "      <td>ordinal</td>\n",
       "    </tr>\n",
       "    <tr>\n",
       "      <th>6</th>\n",
       "      <td>size</td>\n",
       "      <td>Quantidade de pessoas na mesa</td>\n",
       "      <td>quantitativa</td>\n",
       "      <td>discreta</td>\n",
       "    </tr>\n",
       "  </tbody>\n",
       "</table>\n",
       "</div>"
      ],
      "text/plain": [
       "     variavel                            descricao          tipo   subtipo\n",
       "0  total_bill            Valor da conta em dólares  quantitativa  continua\n",
       "1         tip          Valor da gorjeta em dólares  quantitativa  continua\n",
       "2         sex                    Sexo dos clientes   qualitativa   nominal\n",
       "3      smoker  Se os clientes eram fumantes ou não   qualitativa   nominal\n",
       "4         day                        Dia da semana   qualitativa   ordinal\n",
       "5        time                       Período do dia   qualitativa   ordinal\n",
       "6        size        Quantidade de pessoas na mesa  quantitativa  discreta"
      ]
     },
     "execution_count": 5,
     "metadata": {},
     "output_type": "execute_result"
    }
   ],
   "source": [
    "df = pd.read_csv('../data/raw/data.csv')\n",
    "dicionario = pd.read_csv('../data/external/dictionary.csv')\n",
    "dicionario"
   ]
  },
  {
   "cell_type": "markdown",
   "id": "ec26d704-c21e-49d8-8705-ceae036be890",
   "metadata": {},
   "source": [
    "## 2. Limpeza de dados:"
   ]
  },
  {
   "cell_type": "markdown",
   "id": "090f0a64-c99d-4988-8266-fe5057c64293",
   "metadata": {},
   "source": [
    "Aqui realizamos a normalização, codificação e o tratamento de dados discrepantes e/ou faltantes dentro do conjunto de dados."
   ]
  },
  {
   "cell_type": "markdown",
   "id": "8f389fd6-3d47-47bf-987f-ea97e1222c65",
   "metadata": {},
   "source": [
    "### 2.1. Tratamento de dados faltantes:"
   ]
  },
  {
   "cell_type": "code",
   "execution_count": 6,
   "id": "8006cf70-1214-4850-8568-ca7deabfe171",
   "metadata": {
    "tags": []
   },
   "outputs": [
    {
     "data": {
      "text/plain": [
       "total_bill    0\n",
       "tip           0\n",
       "sex           0\n",
       "smoker        0\n",
       "day           0\n",
       "time          0\n",
       "size          0\n",
       "dtype: int64"
      ]
     },
     "execution_count": 6,
     "metadata": {},
     "output_type": "execute_result"
    }
   ],
   "source": [
    "df.isnull().sum()"
   ]
  },
  {
   "cell_type": "markdown",
   "id": "eb1e6887-9a87-4329-8d19-73de9116d88b",
   "metadata": {},
   "source": [
    "A partir da informação dada pela saída do código acima, é possível perceber que não existem dados faltantes na tabela."
   ]
  },
  {
   "cell_type": "markdown",
   "id": "d33e096b-ff29-4891-8aca-5ffcd741a384",
   "metadata": {
    "tags": []
   },
   "source": [
    "### 2.2. Tratamento de dados discrepantes:"
   ]
  },
  {
   "cell_type": "code",
   "execution_count": 7,
   "id": "6bb508fe-3807-4bf9-b3dd-c6f6fcd49e92",
   "metadata": {
    "tags": []
   },
   "outputs": [
    {
     "data": {
      "text/plain": [
       "(['sex', 'smoker'], ['total_bill'], ['day'], ['time'], ['size'])"
      ]
     },
     "execution_count": 7,
     "metadata": {},
     "output_type": "execute_result"
    }
   ],
   "source": [
    "# Separar as variáveis\n",
    "\n",
    "target_column = 'tip'\n",
    "\n",
    "# Filtrando as colunas\n",
    "nominal_columns = (\n",
    "    dicionario\n",
    "    .query(\"subtipo == 'nominal'\")\n",
    "    .variavel\n",
    "    .to_list()\n",
    ")\n",
    "continuous_columns = (\n",
    "    dicionario\n",
    "    .query(\"subtipo == 'continua' and variavel != @target_column\")\n",
    "    .variavel\n",
    "    .to_list()\n",
    ")\n",
    "ordinal_day_columns = (\n",
    "    dicionario\n",
    "    .query(\"variavel in ['day']\")\n",
    "    .variavel\n",
    "    .to_list()\n",
    ")\n",
    "ordinal_time_columns = (\n",
    "    dicionario\n",
    "    .query(\"variavel in ['time']\")\n",
    "    .variavel\n",
    "    .to_list()\n",
    ")\n",
    "discrete_columns = (\n",
    "    dicionario\n",
    "    .query(\"subtipo == 'discreta'\")\n",
    "    .variavel\n",
    "    .to_list()\n",
    ")\n",
    "\n",
    "X = df.drop(columns=[target_column], axis=1)\n",
    "y = df[target_column]\n",
    "nominal_columns, continuous_columns, ordinal_day_columns, ordinal_time_columns, discrete_columns"
   ]
  },
  {
   "cell_type": "code",
   "execution_count": 8,
   "id": "84fb48ce-1fc2-41fb-a4ec-468df7155dc2",
   "metadata": {
    "tags": []
   },
   "outputs": [
    {
     "data": {
      "text/html": [
       "<div>\n",
       "<style scoped>\n",
       "    .dataframe tbody tr th:only-of-type {\n",
       "        vertical-align: middle;\n",
       "    }\n",
       "\n",
       "    .dataframe tbody tr th {\n",
       "        vertical-align: top;\n",
       "    }\n",
       "\n",
       "    .dataframe thead th {\n",
       "        text-align: right;\n",
       "    }\n",
       "</style>\n",
       "<table border=\"1\" class=\"dataframe\">\n",
       "  <thead>\n",
       "    <tr style=\"text-align: right;\">\n",
       "      <th></th>\n",
       "      <th>total_bill</th>\n",
       "      <th>sex</th>\n",
       "      <th>smoker</th>\n",
       "      <th>day</th>\n",
       "      <th>time</th>\n",
       "      <th>size</th>\n",
       "    </tr>\n",
       "  </thead>\n",
       "  <tbody>\n",
       "    <tr>\n",
       "      <th>0</th>\n",
       "      <td>16.99</td>\n",
       "      <td>Female</td>\n",
       "      <td>No</td>\n",
       "      <td>Sun</td>\n",
       "      <td>Dinner</td>\n",
       "      <td>2</td>\n",
       "    </tr>\n",
       "    <tr>\n",
       "      <th>1</th>\n",
       "      <td>10.34</td>\n",
       "      <td>Male</td>\n",
       "      <td>No</td>\n",
       "      <td>Sun</td>\n",
       "      <td>Dinner</td>\n",
       "      <td>3</td>\n",
       "    </tr>\n",
       "    <tr>\n",
       "      <th>2</th>\n",
       "      <td>21.01</td>\n",
       "      <td>Male</td>\n",
       "      <td>No</td>\n",
       "      <td>Sun</td>\n",
       "      <td>Dinner</td>\n",
       "      <td>3</td>\n",
       "    </tr>\n",
       "    <tr>\n",
       "      <th>3</th>\n",
       "      <td>23.68</td>\n",
       "      <td>Male</td>\n",
       "      <td>No</td>\n",
       "      <td>Sun</td>\n",
       "      <td>Dinner</td>\n",
       "      <td>2</td>\n",
       "    </tr>\n",
       "    <tr>\n",
       "      <th>4</th>\n",
       "      <td>24.59</td>\n",
       "      <td>Female</td>\n",
       "      <td>No</td>\n",
       "      <td>Sun</td>\n",
       "      <td>Dinner</td>\n",
       "      <td>4</td>\n",
       "    </tr>\n",
       "  </tbody>\n",
       "</table>\n",
       "</div>"
      ],
      "text/plain": [
       "   total_bill     sex smoker  day    time  size\n",
       "0       16.99  Female     No  Sun  Dinner     2\n",
       "1       10.34    Male     No  Sun  Dinner     3\n",
       "2       21.01    Male     No  Sun  Dinner     3\n",
       "3       23.68    Male     No  Sun  Dinner     2\n",
       "4       24.59  Female     No  Sun  Dinner     4"
      ]
     },
     "execution_count": 8,
     "metadata": {},
     "output_type": "execute_result"
    }
   ],
   "source": [
    "# Variáveis independente\n",
    "X.head()"
   ]
  },
  {
   "cell_type": "code",
   "execution_count": 9,
   "id": "f42bc242-1a4a-4ac5-b4e6-cc7259e2e09c",
   "metadata": {
    "tags": []
   },
   "outputs": [
    {
     "data": {
      "text/plain": [
       "(244, 6)"
      ]
     },
     "execution_count": 9,
     "metadata": {},
     "output_type": "execute_result"
    }
   ],
   "source": [
    "X.shape"
   ]
  },
  {
   "cell_type": "code",
   "execution_count": 12,
   "id": "f7519c04-f2bf-4835-b5ec-6969a6801b2c",
   "metadata": {
    "tags": []
   },
   "outputs": [
    {
     "data": {
      "text/plain": [
       "0      1.01\n",
       "1      1.66\n",
       "2      3.50\n",
       "3      3.31\n",
       "4      3.61\n",
       "       ... \n",
       "239    5.92\n",
       "240    2.00\n",
       "241    2.00\n",
       "242    1.75\n",
       "243    3.00\n",
       "Name: tip, Length: 244, dtype: float64"
      ]
     },
     "execution_count": 12,
     "metadata": {},
     "output_type": "execute_result"
    }
   ],
   "source": [
    "# Variável dependente\n",
    "y"
   ]
  },
  {
   "cell_type": "code",
   "execution_count": 15,
   "id": "dcb51c49-2460-4d08-a129-0beda3bf21c3",
   "metadata": {
    "tags": []
   },
   "outputs": [],
   "source": [
    "nominal_preprocessor = Pipeline([\n",
    "    ('missing', SimpleImputer(strategy='most_frequent')), # tratamento de dados faltantes\n",
    "    ('encoding', OneHotEncoder(sparse_output=False, drop='first')), # codificação de variáveis\n",
    "    ('normalization', StandardScaler()) # normalização de dados\n",
    "])\n",
    "continuous_preprocessor = Pipeline([\n",
    "    ('missing', SimpleImputer(strategy='mean')),  # Tratamento de dados faltantes\n",
    "    ('normalization', StandardScaler())  # Normalização de dados contínuos\n",
    "])\n",
    "ordinal_day_preprocessor = Pipeline([\n",
    "    ('missing', SimpleImputer(strategy='most_frequent')), # tratamento de dados faltantes\n",
    "    ('encoding', OneHotEncoder(sparse_output=False, drop='first')), # codificação de variáveis\n",
    "    ('normalization', StandardScaler()) # normalização de dados\n",
    "])\n",
    "ordinal_time_preprocessor = Pipeline([\n",
    "    ('missing', SimpleImputer(strategy='most_frequent')), # tratamento de dados faltantes\n",
    "    ('encoding', OneHotEncoder(sparse_output=False, drop='first')), # codificação de variáveis\n",
    "    ('normalization', StandardScaler()) # normalização de dados\n",
    "])\n",
    "discrete_preprocessor = Pipeline([\n",
    "    ('missing', SimpleImputer(strategy='mean')),  # Tratamento de dados faltantes\n",
    "    ('normalization', StandardScaler()) # normalização de dados\n",
    "])\n",
    "preprocessor = ColumnTransformer([\n",
    "    ('nominal', nominal_preprocessor, nominal_columns),\n",
    "    ('continuous', continuous_preprocessor, continuous_columns),\n",
    "    ('ordinal_day', ordinal_day_preprocessor, ordinal_day_columns),\n",
    "    ('ordinal_time', ordinal_time_preprocessor, ordinal_time_columns),\n",
    "    ('discrete', discrete_preprocessor, discrete_columns)\n",
    "])\n",
    "\n",
    "model = LogisticRegression()"
   ]
  },
  {
   "cell_type": "code",
   "execution_count": 30,
   "id": "51a6721e-1e59-4118-844a-2947f47ffa07",
   "metadata": {
    "tags": []
   },
   "outputs": [
    {
     "data": {
      "text/plain": [
       "array([[-1.34335316, -0.78478917, -0.31471131, ..., -0.5836603 ,\n",
       "        -0.62158156, -0.60019263],\n",
       "       [ 0.74440589, -0.78478917, -1.06323531, ..., -0.5836603 ,\n",
       "        -0.62158156,  0.45338292],\n",
       "       [ 0.74440589, -0.78478917,  0.1377799 , ..., -0.5836603 ,\n",
       "        -0.62158156,  0.45338292],\n",
       "       ...,\n",
       "       [ 0.74440589,  1.27422758,  0.3246295 , ..., -0.5836603 ,\n",
       "        -0.62158156, -0.60019263],\n",
       "       [ 0.74440589, -0.78478917, -0.2212865 , ..., -0.5836603 ,\n",
       "        -0.62158156, -0.60019263],\n",
       "       [-1.34335316, -0.78478917, -0.1132289 , ...,  1.71332538,\n",
       "        -0.62158156, -0.60019263]])"
      ]
     },
     "execution_count": 30,
     "metadata": {},
     "output_type": "execute_result"
    }
   ],
   "source": [
    "preprocessor.fit_transform(X)\n",
    "X_transform = preprocessor.transform(X)\n",
    "X_transform"
   ]
  },
  {
   "cell_type": "markdown",
   "id": "1dd69358-ca62-493b-922d-c80e14b46e5c",
   "metadata": {},
   "source": [
    "## 3. Seleção de modelos"
   ]
  },
  {
   "cell_type": "markdown",
   "id": "d737a951-9bd6-4349-a9f6-a5415bdf6f43",
   "metadata": {},
   "source": [
    "Iremos análisar três modelos, que serão testados utilizando um método de validação, a saber:\n",
    "\n",
    "- K-Nearest Neighbors\n",
    "- Decision Tree\n",
    "- Random Forest\n"
   ]
  },
  {
   "cell_type": "code",
   "execution_count": 31,
   "id": "8cd73846-7208-4a7d-94a2-0a87f310a3df",
   "metadata": {
    "tags": []
   },
   "outputs": [],
   "source": [
    "# experiment settings\n",
    "n_splits_comparative_analysis = 10\n",
    "n_folds_grid_search = 5\n",
    "test_size = .3\n",
    "random_state = 0\n",
    "metrics = {\n",
    "    'MAE': make_scorer(mean_absolute_error),\n",
    "    'MSE': make_scorer(mean_squared_error),\n",
    "    'R2': make_scorer(r2_score)\n",
    "}\n",
    "\n",
    "# model settings\n",
    "max_iter = 1000000\n",
    "models = [\n",
    "    ('K-Nearest Neighbors', KNeighborsRegressor(), {\"n_neighbors\": range(3, 20, 2), 'weights': ['uniform', 'distance']}),\n",
    "    ('Decision Tree',  DecisionTreeRegressor(random_state=random_state), {'criterion':['squared_error', 'friedman_mse'],'max_depth': [3, 25, 40]}),\n",
    "    ('Random Forest',  RandomForestRegressor(random_state=random_state), {'criterion':['squared_error', 'friedman_mse'],'max_depth': [3, 25, 40], 'n_estimators': [10, 50]}),\n",
    "]"
   ]
  },
  {
   "cell_type": "code",
   "execution_count": 33,
   "id": "53d05222-d1db-4211-a619-e4773e13f85e",
   "metadata": {
    "tags": []
   },
   "outputs": [
    {
     "name": "stdout",
     "output_type": "stream",
     "text": [
      "running K-Nearest Neighbors...\n"
     ]
    },
    {
     "data": {
      "text/html": [
       "<div>\n",
       "<style scoped>\n",
       "    .dataframe tbody tr th:only-of-type {\n",
       "        vertical-align: middle;\n",
       "    }\n",
       "\n",
       "    .dataframe tbody tr th {\n",
       "        vertical-align: top;\n",
       "    }\n",
       "\n",
       "    .dataframe thead th {\n",
       "        text-align: right;\n",
       "    }\n",
       "</style>\n",
       "<table border=\"1\" class=\"dataframe\">\n",
       "  <thead>\n",
       "    <tr style=\"text-align: right;\">\n",
       "      <th></th>\n",
       "      <th>fit_time</th>\n",
       "      <th>score_time</th>\n",
       "      <th>test_MAE</th>\n",
       "      <th>test_MSE</th>\n",
       "      <th>test_R2</th>\n",
       "    </tr>\n",
       "  </thead>\n",
       "  <tbody>\n",
       "    <tr>\n",
       "      <th>mean</th>\n",
       "      <td>0.329966</td>\n",
       "      <td>0.010307</td>\n",
       "      <td>0.859733</td>\n",
       "      <td>1.425904</td>\n",
       "      <td>0.308659</td>\n",
       "    </tr>\n",
       "    <tr>\n",
       "      <th>std</th>\n",
       "      <td>0.007102</td>\n",
       "      <td>0.000586</td>\n",
       "      <td>0.066036</td>\n",
       "      <td>0.335827</td>\n",
       "      <td>0.104049</td>\n",
       "    </tr>\n",
       "  </tbody>\n",
       "</table>\n",
       "</div>"
      ],
      "text/plain": [
       "      fit_time  score_time  test_MAE  test_MSE   test_R2\n",
       "mean  0.329966    0.010307  0.859733  1.425904  0.308659\n",
       "std   0.007102    0.000586  0.066036  0.335827  0.104049"
      ]
     },
     "metadata": {},
     "output_type": "display_data"
    },
    {
     "name": "stdout",
     "output_type": "stream",
     "text": [
      "running Decision Tree...\n"
     ]
    },
    {
     "data": {
      "text/html": [
       "<div>\n",
       "<style scoped>\n",
       "    .dataframe tbody tr th:only-of-type {\n",
       "        vertical-align: middle;\n",
       "    }\n",
       "\n",
       "    .dataframe tbody tr th {\n",
       "        vertical-align: top;\n",
       "    }\n",
       "\n",
       "    .dataframe thead th {\n",
       "        text-align: right;\n",
       "    }\n",
       "</style>\n",
       "<table border=\"1\" class=\"dataframe\">\n",
       "  <thead>\n",
       "    <tr style=\"text-align: right;\">\n",
       "      <th></th>\n",
       "      <th>fit_time</th>\n",
       "      <th>score_time</th>\n",
       "      <th>test_MAE</th>\n",
       "      <th>test_MSE</th>\n",
       "      <th>test_R2</th>\n",
       "    </tr>\n",
       "  </thead>\n",
       "  <tbody>\n",
       "    <tr>\n",
       "      <th>mean</th>\n",
       "      <td>0.129111</td>\n",
       "      <td>0.009245</td>\n",
       "      <td>0.799767</td>\n",
       "      <td>1.275650</td>\n",
       "      <td>0.384530</td>\n",
       "    </tr>\n",
       "    <tr>\n",
       "      <th>std</th>\n",
       "      <td>0.004160</td>\n",
       "      <td>0.000242</td>\n",
       "      <td>0.059563</td>\n",
       "      <td>0.386195</td>\n",
       "      <td>0.107518</td>\n",
       "    </tr>\n",
       "  </tbody>\n",
       "</table>\n",
       "</div>"
      ],
      "text/plain": [
       "      fit_time  score_time  test_MAE  test_MSE   test_R2\n",
       "mean  0.129111    0.009245  0.799767  1.275650  0.384530\n",
       "std   0.004160    0.000242  0.059563  0.386195  0.107518"
      ]
     },
     "metadata": {},
     "output_type": "display_data"
    },
    {
     "name": "stdout",
     "output_type": "stream",
     "text": [
      "running Random Forest...\n"
     ]
    },
    {
     "data": {
      "text/html": [
       "<div>\n",
       "<style scoped>\n",
       "    .dataframe tbody tr th:only-of-type {\n",
       "        vertical-align: middle;\n",
       "    }\n",
       "\n",
       "    .dataframe tbody tr th {\n",
       "        vertical-align: top;\n",
       "    }\n",
       "\n",
       "    .dataframe thead th {\n",
       "        text-align: right;\n",
       "    }\n",
       "</style>\n",
       "<table border=\"1\" class=\"dataframe\">\n",
       "  <thead>\n",
       "    <tr style=\"text-align: right;\">\n",
       "      <th></th>\n",
       "      <th>fit_time</th>\n",
       "      <th>score_time</th>\n",
       "      <th>test_MAE</th>\n",
       "      <th>test_MSE</th>\n",
       "      <th>test_R2</th>\n",
       "    </tr>\n",
       "  </thead>\n",
       "  <tbody>\n",
       "    <tr>\n",
       "      <th>mean</th>\n",
       "      <td>2.635647</td>\n",
       "      <td>0.011964</td>\n",
       "      <td>0.790863</td>\n",
       "      <td>1.203103</td>\n",
       "      <td>0.406043</td>\n",
       "    </tr>\n",
       "    <tr>\n",
       "      <th>std</th>\n",
       "      <td>0.063757</td>\n",
       "      <td>0.001222</td>\n",
       "      <td>0.058671</td>\n",
       "      <td>0.233691</td>\n",
       "      <td>0.134559</td>\n",
       "    </tr>\n",
       "  </tbody>\n",
       "</table>\n",
       "</div>"
      ],
      "text/plain": [
       "      fit_time  score_time  test_MAE  test_MSE   test_R2\n",
       "mean  2.635647    0.011964  0.790863  1.203103  0.406043\n",
       "std   0.063757    0.001222  0.058671  0.233691  0.134559"
      ]
     },
     "metadata": {},
     "output_type": "display_data"
    }
   ],
   "source": [
    "results = pd.DataFrame({})\n",
    "cross_validate_grid_search = KFold(n_splits=n_folds_grid_search)\n",
    "cross_validate_comparative_analysis = ShuffleSplit(n_splits=n_splits_comparative_analysis, test_size=test_size, random_state=random_state)\n",
    "for model_name, model_object, model_parameters in models:\n",
    "    print(f\"running {model_name}...\")\n",
    "    model_grid_search = GridSearchCV(\n",
    "        estimator=model_object,\n",
    "        param_grid=model_parameters,\n",
    "        scoring='neg_mean_absolute_error',\n",
    "        n_jobs=2,\n",
    "        cv=cross_validate_grid_search\n",
    "    )\n",
    "    approach = Pipeline(steps=[\n",
    "        ('preprocessor', preprocessor),\n",
    "        ('model', model_grid_search)\n",
    "    ])\n",
    "    scores = cross_validate(\n",
    "        estimator=approach,\n",
    "        X=X,\n",
    "        y=y,\n",
    "        cv=cross_validate_comparative_analysis,\n",
    "        n_jobs=2,\n",
    "        scoring=metrics,\n",
    "        return_train_score=False\n",
    "    )\n",
    "    scores['model_name'] = [model_name] * n_splits_comparative_analysis\n",
    "    df_scores = pd.DataFrame(scores)\n",
    "    df_scores =  df_scores.drop(columns=['model_name'])\n",
    "    df_scores = df_scores.agg(['mean', 'std'])\n",
    "    display(df_scores)\n",
    "    results = pd.concat([results, pd.DataFrame(scores)], ignore_index=True)"
   ]
  },
  {
   "cell_type": "code",
   "execution_count": 34,
   "id": "ef3c2b04-d3ec-4018-b6d5-b096e3345a1a",
   "metadata": {
    "tags": []
   },
   "outputs": [
    {
     "data": {
      "text/markdown": [
       "### 3.1 Resultados gerais"
      ],
      "text/plain": [
       "<IPython.core.display.Markdown object>"
      ]
     },
     "metadata": {},
     "output_type": "display_data"
    },
    {
     "data": {
      "text/html": [
       "<style type=\"text/css\">\n",
       "#T_6405b td {\n",
       "  text-align: center;\n",
       "}\n",
       "#T_6405b_row0_col0, #T_6405b_row2_col0, #T_6405b_row4_col1, #T_6405b_row6_col1, #T_6405b_row8_col2 {\n",
       "  color: white;\n",
       "  background-color: gray;\n",
       "  font-weight: bold;\n",
       "}\n",
       "</style>\n",
       "<table id=\"T_6405b\">\n",
       "  <thead>\n",
       "    <tr>\n",
       "      <th class=\"blank\" >&nbsp;</th>\n",
       "      <th class=\"index_name level0\" >model_name</th>\n",
       "      <th id=\"T_6405b_level0_col0\" class=\"col_heading level0 col0\" >Decision Tree</th>\n",
       "      <th id=\"T_6405b_level0_col1\" class=\"col_heading level0 col1\" >K-Nearest Neighbors</th>\n",
       "      <th id=\"T_6405b_level0_col2\" class=\"col_heading level0 col2\" >Random Forest</th>\n",
       "    </tr>\n",
       "  </thead>\n",
       "  <tbody>\n",
       "    <tr>\n",
       "      <th id=\"T_6405b_level0_row0\" class=\"row_heading level0 row0\" rowspan=\"2\">fit_time</th>\n",
       "      <th id=\"T_6405b_level1_row0\" class=\"row_heading level1 row0\" >mean</th>\n",
       "      <td id=\"T_6405b_row0_col0\" class=\"data row0 col0\" >0.129111</td>\n",
       "      <td id=\"T_6405b_row0_col1\" class=\"data row0 col1\" >0.329966</td>\n",
       "      <td id=\"T_6405b_row0_col2\" class=\"data row0 col2\" >2.635647</td>\n",
       "    </tr>\n",
       "    <tr>\n",
       "      <th id=\"T_6405b_level1_row1\" class=\"row_heading level1 row1\" >std</th>\n",
       "      <td id=\"T_6405b_row1_col0\" class=\"data row1 col0\" >0.004160</td>\n",
       "      <td id=\"T_6405b_row1_col1\" class=\"data row1 col1\" >0.007102</td>\n",
       "      <td id=\"T_6405b_row1_col2\" class=\"data row1 col2\" >0.063757</td>\n",
       "    </tr>\n",
       "    <tr>\n",
       "      <th id=\"T_6405b_level0_row2\" class=\"row_heading level0 row2\" rowspan=\"2\">score_time</th>\n",
       "      <th id=\"T_6405b_level1_row2\" class=\"row_heading level1 row2\" >mean</th>\n",
       "      <td id=\"T_6405b_row2_col0\" class=\"data row2 col0\" >0.009245</td>\n",
       "      <td id=\"T_6405b_row2_col1\" class=\"data row2 col1\" >0.010307</td>\n",
       "      <td id=\"T_6405b_row2_col2\" class=\"data row2 col2\" >0.011964</td>\n",
       "    </tr>\n",
       "    <tr>\n",
       "      <th id=\"T_6405b_level1_row3\" class=\"row_heading level1 row3\" >std</th>\n",
       "      <td id=\"T_6405b_row3_col0\" class=\"data row3 col0\" >0.000242</td>\n",
       "      <td id=\"T_6405b_row3_col1\" class=\"data row3 col1\" >0.000586</td>\n",
       "      <td id=\"T_6405b_row3_col2\" class=\"data row3 col2\" >0.001222</td>\n",
       "    </tr>\n",
       "    <tr>\n",
       "      <th id=\"T_6405b_level0_row4\" class=\"row_heading level0 row4\" rowspan=\"2\">test_MAE</th>\n",
       "      <th id=\"T_6405b_level1_row4\" class=\"row_heading level1 row4\" >mean</th>\n",
       "      <td id=\"T_6405b_row4_col0\" class=\"data row4 col0\" >0.799767</td>\n",
       "      <td id=\"T_6405b_row4_col1\" class=\"data row4 col1\" >0.859733</td>\n",
       "      <td id=\"T_6405b_row4_col2\" class=\"data row4 col2\" >0.790863</td>\n",
       "    </tr>\n",
       "    <tr>\n",
       "      <th id=\"T_6405b_level1_row5\" class=\"row_heading level1 row5\" >std</th>\n",
       "      <td id=\"T_6405b_row5_col0\" class=\"data row5 col0\" >0.059563</td>\n",
       "      <td id=\"T_6405b_row5_col1\" class=\"data row5 col1\" >0.066036</td>\n",
       "      <td id=\"T_6405b_row5_col2\" class=\"data row5 col2\" >0.058671</td>\n",
       "    </tr>\n",
       "    <tr>\n",
       "      <th id=\"T_6405b_level0_row6\" class=\"row_heading level0 row6\" rowspan=\"2\">test_MSE</th>\n",
       "      <th id=\"T_6405b_level1_row6\" class=\"row_heading level1 row6\" >mean</th>\n",
       "      <td id=\"T_6405b_row6_col0\" class=\"data row6 col0\" >1.275650</td>\n",
       "      <td id=\"T_6405b_row6_col1\" class=\"data row6 col1\" >1.425904</td>\n",
       "      <td id=\"T_6405b_row6_col2\" class=\"data row6 col2\" >1.203103</td>\n",
       "    </tr>\n",
       "    <tr>\n",
       "      <th id=\"T_6405b_level1_row7\" class=\"row_heading level1 row7\" >std</th>\n",
       "      <td id=\"T_6405b_row7_col0\" class=\"data row7 col0\" >0.386195</td>\n",
       "      <td id=\"T_6405b_row7_col1\" class=\"data row7 col1\" >0.335827</td>\n",
       "      <td id=\"T_6405b_row7_col2\" class=\"data row7 col2\" >0.233691</td>\n",
       "    </tr>\n",
       "    <tr>\n",
       "      <th id=\"T_6405b_level0_row8\" class=\"row_heading level0 row8\" rowspan=\"2\">test_R2</th>\n",
       "      <th id=\"T_6405b_level1_row8\" class=\"row_heading level1 row8\" >mean</th>\n",
       "      <td id=\"T_6405b_row8_col0\" class=\"data row8 col0\" >0.384530</td>\n",
       "      <td id=\"T_6405b_row8_col1\" class=\"data row8 col1\" >0.308659</td>\n",
       "      <td id=\"T_6405b_row8_col2\" class=\"data row8 col2\" >0.406043</td>\n",
       "    </tr>\n",
       "    <tr>\n",
       "      <th id=\"T_6405b_level1_row9\" class=\"row_heading level1 row9\" >std</th>\n",
       "      <td id=\"T_6405b_row9_col0\" class=\"data row9 col0\" >0.107518</td>\n",
       "      <td id=\"T_6405b_row9_col1\" class=\"data row9 col1\" >0.104049</td>\n",
       "      <td id=\"T_6405b_row9_col2\" class=\"data row9 col2\" >0.134559</td>\n",
       "    </tr>\n",
       "  </tbody>\n",
       "</table>\n"
      ],
      "text/plain": [
       "<pandas.io.formats.style.Styler at 0x7f9b6ef7ffd0>"
      ]
     },
     "execution_count": 34,
     "metadata": {},
     "output_type": "execute_result"
    }
   ],
   "source": [
    "def highlight_best(s, props=''):\n",
    "    if s.name[1] != 'std':\n",
    "        if s.name[0].endswith('time'):\n",
    "            return np.where(s == np.nanmin(s.values), props, '')\n",
    "        return np.where(s == np.nanmax(s.values), props, '')\n",
    "\n",
    "display(Markdown(\"### 3.1 Resultados gerais\"))\n",
    "(\n",
    "    results\n",
    "    .groupby('model_name')\n",
    "    .agg(['mean', 'std']).T\n",
    "    .style\n",
    "    .apply(highlight_best, props='color:white;background-color:gray;font-weight: bold;', axis=1)\n",
    "    .set_table_styles([{'selector': 'td', 'props': 'text-align: center;'}])\n",
    ")"
   ]
  },
  {
   "cell_type": "code",
   "execution_count": 35,
   "id": "46154f4a-7e1f-4b1a-ab3f-d5a5d779cbea",
   "metadata": {
    "tags": []
   },
   "outputs": [
    {
     "name": "stdout",
     "output_type": "stream",
     "text": [
      "Hiper parâmetros do modelo: {'criterion': 'squared_error', 'max_depth': 3}\n"
     ]
    }
   ],
   "source": [
    "# Obtem o modelo e os parametros ganhadores\n",
    "model_name, model_object, model_parameters  = [foo for foo in models if foo[0] == \"Decision Tree\"][0] \n",
    "\n",
    "model_grid_search = GridSearchCV(\n",
    "        estimator=model_object,\n",
    "        param_grid=model_parameters,\n",
    "        scoring='neg_mean_absolute_error',\n",
    "        n_jobs=None,\n",
    "        cv=cross_validate_grid_search\n",
    "    )\n",
    "\n",
    "approach = Pipeline([\n",
    "    (\"preprocessor\", preprocessor),\n",
    "    (\"model\", model_grid_search)\n",
    "])\n",
    "\n",
    "approach.fit(X, y) #Seleciona o approach\n",
    "\n",
    "print(f\"Hiper parâmetros do modelo: {approach.steps[1][1].best_params_}\")"
   ]
  },
  {
   "cell_type": "code",
   "execution_count": 22,
   "id": "ec1c5ef0-2410-44d8-9a64-214fb5e340d8",
   "metadata": {
    "tags": []
   },
   "outputs": [
    {
     "data": {
      "text/plain": [
       "['../models/model.joblib']"
      ]
     },
     "execution_count": 22,
     "metadata": {},
     "output_type": "execute_result"
    }
   ],
   "source": [
    "joblib.dump(approach, '../models/model.joblib') # Salva o modelo em disco"
   ]
  }
 ],
 "metadata": {
  "kernelspec": {
   "display_name": "Python 3 (ipykernel)",
   "language": "python",
   "name": "python3"
  },
  "language_info": {
   "codemirror_mode": {
    "name": "ipython",
    "version": 3
   },
   "file_extension": ".py",
   "mimetype": "text/x-python",
   "name": "python",
   "nbconvert_exporter": "python",
   "pygments_lexer": "ipython3",
   "version": "3.10.12"
  }
 },
 "nbformat": 4,
 "nbformat_minor": 5
}
